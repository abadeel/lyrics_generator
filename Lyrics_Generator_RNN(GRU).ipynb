{
 "cells": [
  {
   "cell_type": "code",
   "execution_count": null,
   "metadata": {
    "colab": {
     "base_uri": "https://localhost:8080/"
    },
    "executionInfo": {
     "elapsed": 7923,
     "status": "ok",
     "timestamp": 1701700245341,
     "user": {
      "displayName": "Abdul Basit Adeel",
      "userId": "05413524632778977820"
     },
     "user_tz": 300
    },
    "id": "R7RNVjXQ-0ZK",
    "outputId": "bf1ffa12-61e6-48df-9c23-7fa9b6e7f4bc"
   },
   "outputs": [],
   "source": [
    "import pandas as pd\n",
    "import numpy as np\n",
    "import re\n",
    "import torch\n",
    "import torch.nn as nn\n",
    "import torch.optim as optim\n",
    "from torch.utils.data import Dataset, DataLoader\n",
    "from nltk.tokenize import word_tokenize\n",
    "from collections import Counter\n",
    "import nltk\n",
    "nltk.download('punkt')\n",
    "from tqdm import tqdm\n",
    "import time"
   ]
  },
  {
   "cell_type": "code",
   "execution_count": null,
   "metadata": {},
   "outputs": [],
   "source": [
    "start_time = time.time()"
   ]
  },
  {
   "cell_type": "code",
   "execution_count": null,
   "metadata": {
    "executionInfo": {
     "elapsed": 60,
     "status": "ok",
     "timestamp": 1701700245345,
     "user": {
      "displayName": "Abdul Basit Adeel",
      "userId": "05413524632778977820"
     },
     "user_tz": 300
    },
    "id": "u7l4X9MoO7lW"
   },
   "outputs": [],
   "source": [
    "lines = pd.read_csv('eminem_lyrics.csv',index_col=0)"
   ]
  },
  {
   "cell_type": "code",
   "execution_count": null,
   "metadata": {
    "colab": {
     "base_uri": "https://localhost:8080/",
     "height": 206
    },
    "executionInfo": {
     "elapsed": 24,
     "status": "ok",
     "timestamp": 1701700249498,
     "user": {
      "displayName": "Abdul Basit Adeel",
      "userId": "05413524632778977820"
     },
     "user_tz": 300
    },
    "id": "1LO3UQhl-0al",
    "outputId": "1254d6b1-3979-476a-ac1a-ec7b04fc76ec"
   },
   "outputs": [],
   "source": [
    "lines.head()"
   ]
  },
  {
   "cell_type": "code",
   "execution_count": null,
   "metadata": {
    "colab": {
     "base_uri": "https://localhost:8080/"
    },
    "executionInfo": {
     "elapsed": 8,
     "status": "ok",
     "timestamp": 1701700250849,
     "user": {
      "displayName": "Abdul Basit Adeel",
      "userId": "05413524632778977820"
     },
     "user_tz": 300
    },
    "id": "sYDJq60DiwpR",
    "outputId": "0d8521a5-3127-4ad5-fb10-19b713086b59"
   },
   "outputs": [],
   "source": [
    "lines.shape"
   ]
  },
  {
   "cell_type": "code",
   "execution_count": null,
   "metadata": {
    "executionInfo": {
     "elapsed": 434,
     "status": "ok",
     "timestamp": 1701700253082,
     "user": {
      "displayName": "Abdul Basit Adeel",
      "userId": "05413524632778977820"
     },
     "user_tz": 300
    },
    "id": "4-PKQnIuXZF1"
   },
   "outputs": [],
   "source": [
    "# Tokenization\n",
    "def tokenize_lines(df):\n",
    "    tokenized_lines = []\n",
    "    for line in df['lines']:\n",
    "        tokens = word_tokenize(line)\n",
    "        tokenized_lines.append(tokens)\n",
    "    return tokenized_lines\n",
    "\n",
    "tokenized_lines = tokenize_lines(lines)"
   ]
  },
  {
   "cell_type": "code",
   "execution_count": null,
   "metadata": {
    "executionInfo": {
     "elapsed": 12,
     "status": "ok",
     "timestamp": 1701700254216,
     "user": {
      "displayName": "Abdul Basit Adeel",
      "userId": "05413524632778977820"
     },
     "user_tz": 300
    },
    "id": "Q_VARv19O7la"
   },
   "outputs": [],
   "source": [
    "# Creating Vocabulary\n",
    "def create_vocab(tokenized_lines):\n",
    "    all_words = [word for tokens in tokenized_lines for word in tokens]\n",
    "    vocab = Counter(all_words)\n",
    "    return {word: i+1 for i, (word, _) in enumerate(vocab.items())}, len(vocab) + 1\n",
    "\n",
    "word2idx, vocab_size = create_vocab(tokenized_lines)\n",
    "idx2word = {idx: word for word, idx in word2idx.items()}\n"
   ]
  },
  {
   "cell_type": "code",
   "execution_count": null,
   "metadata": {
    "executionInfo": {
     "elapsed": 11,
     "status": "ok",
     "timestamp": 1701700257037,
     "user": {
      "displayName": "Abdul Basit Adeel",
      "userId": "05413524632778977820"
     },
     "user_tz": 300
    },
    "id": "tAlElWS3O7lb"
   },
   "outputs": [],
   "source": [
    "# Preparing sequences for training\n",
    "def create_sequences(tokenized_lines, word2idx, seq_length=50):\n",
    "    sequences = []\n",
    "    for line in tokenized_lines:\n",
    "        encoded_line = [word2idx[word] for word in line if word in word2idx]\n",
    "        for i in range(seq_length, len(encoded_line)):\n",
    "            sequence = encoded_line[i-seq_length:i+1]\n",
    "            sequences.append(sequence)\n",
    "    return sequences\n",
    "\n",
    "sequences = create_sequences(tokenized_lines, word2idx)"
   ]
  },
  {
   "cell_type": "code",
   "execution_count": null,
   "metadata": {
    "executionInfo": {
     "elapsed": 8,
     "status": "ok",
     "timestamp": 1701700257775,
     "user": {
      "displayName": "Abdul Basit Adeel",
      "userId": "05413524632778977820"
     },
     "user_tz": 300
    },
    "id": "vnyHfbUzO7ld",
    "tags": []
   },
   "outputs": [],
   "source": [
    "class LyricsDataset(Dataset):\n",
    "    def __init__(self, sequences):\n",
    "        self.sequences = sequences\n",
    "\n",
    "    def __len__(self):\n",
    "        return len(self.sequences)\n",
    "\n",
    "    def __getitem__(self, idx):\n",
    "        sequence = self.sequences[idx]\n",
    "        x, y = torch.tensor(sequence[:-1]), torch.tensor(sequence[1:])\n",
    "        return x, y"
   ]
  },
  {
   "cell_type": "code",
   "execution_count": null,
   "metadata": {
    "colab": {
     "base_uri": "https://localhost:8080/"
    },
    "executionInfo": {
     "elapsed": 11,
     "status": "ok",
     "timestamp": 1701700275914,
     "user": {
      "displayName": "Abdul Basit Adeel",
      "userId": "05413524632778977820"
     },
     "user_tz": 300
    },
    "id": "rUfJfAxMO7le",
    "outputId": "61e198eb-2a14-4d41-cc5e-79762d73a272"
   },
   "outputs": [],
   "source": [
    "# Creating Dataset and DataLoader\n",
    "dataset = LyricsDataset(sequences)\n",
    "total_sequences = len(sequences)  # Total number of sequences you have\n",
    "batch = 32  # As defined in DataLoader\n",
    "steps_per_epoch = -(-total_sequences // batch)  # Ceiling division\n",
    "print(steps_per_epoch)\n",
    "data_loader = DataLoader(dataset, batch_size=batch, shuffle=True)"
   ]
  },
  {
   "cell_type": "code",
   "execution_count": null,
   "metadata": {
    "executionInfo": {
     "elapsed": 330,
     "status": "ok",
     "timestamp": 1701700279943,
     "user": {
      "displayName": "Abdul Basit Adeel",
      "userId": "05413524632778977820"
     },
     "user_tz": 300
    },
    "id": "n8J2h7jIO7le"
   },
   "outputs": [],
   "source": [
    "class LyricsGeneratorModel(nn.Module):\n",
    "    def __init__(self, vocab_size, embedding_dim, hidden_dim):\n",
    "        super(LyricsGeneratorModel, self).__init__()\n",
    "        self.embedding = nn.Embedding(vocab_size, embedding_dim, padding_idx=0)\n",
    "        self.gru = nn.GRU(embedding_dim, hidden_dim, batch_first=True)\n",
    "        self.fc = nn.Linear(hidden_dim, vocab_size)\n",
    "\n",
    "    def forward(self, x):\n",
    "        x = self.embedding(x)\n",
    "        x, _ = self.gru(x)\n",
    "        x = self.fc(x)\n",
    "        return x"
   ]
  },
  {
   "cell_type": "code",
   "execution_count": null,
   "metadata": {
    "executionInfo": {
     "elapsed": 21,
     "status": "ok",
     "timestamp": 1701700281355,
     "user": {
      "displayName": "Abdul Basit Adeel",
      "userId": "05413524632778977820"
     },
     "user_tz": 300
    },
    "id": "3A2NfdNFO7lg"
   },
   "outputs": [],
   "source": [
    "embedding_dim = 128\n",
    "hidden_dim = 1024\n",
    "model = LyricsGeneratorModel(vocab_size, embedding_dim, hidden_dim)"
   ]
  },
  {
   "cell_type": "code",
   "execution_count": null,
   "metadata": {
    "executionInfo": {
     "elapsed": 10,
     "status": "ok",
     "timestamp": 1701700282100,
     "user": {
      "displayName": "Abdul Basit Adeel",
      "userId": "05413524632778977820"
     },
     "user_tz": 300
    },
    "id": "sAOoLXCuO7lg"
   },
   "outputs": [],
   "source": [
    "def train_model(model, data_loader, epochs=10):\n",
    "    device = torch.device(\"cuda\" if torch.cuda.is_available() else \"cpu\")\n",
    "    model.to(device)\n",
    "    criterion = nn.CrossEntropyLoss(ignore_index=0)\n",
    "    optimizer = optim.Adam(model.parameters())\n",
    "\n",
    "    epoch_losses = []  # List to store average loss per epoch\n",
    "\n",
    "    for epoch in range(epochs):\n",
    "        model.train()\n",
    "        total_loss = 0\n",
    "        num_batches = 0\n",
    "        progress_bar = tqdm(data_loader, desc=f'Epoch {epoch+1}/{epochs}', leave=False)\n",
    "\n",
    "        for inputs, targets in progress_bar:\n",
    "            inputs, targets = inputs.to(device), targets.to(device)\n",
    "\n",
    "            # Forward pass\n",
    "            outputs = model(inputs)\n",
    "            loss = criterion(outputs.transpose(1, 2), targets)\n",
    "\n",
    "            # Backward and optimize\n",
    "            optimizer.zero_grad()\n",
    "            loss.backward()\n",
    "            optimizer.step()\n",
    "\n",
    "            total_loss += loss.item()\n",
    "            num_batches += 1\n",
    "            progress_bar.set_postfix(loss=f'{loss.item():.4f}')\n",
    "\n",
    "        average_loss = total_loss / num_batches\n",
    "        epoch_losses.append(average_loss)\n",
    "\n",
    "    return epoch_losses"
   ]
  },
  {
   "cell_type": "code",
   "execution_count": null,
   "metadata": {
    "colab": {
     "base_uri": "https://localhost:8080/"
    },
    "executionInfo": {
     "elapsed": 1100966,
     "status": "ok",
     "timestamp": 1701701386602,
     "user": {
      "displayName": "Abdul Basit Adeel",
      "userId": "05413524632778977820"
     },
     "user_tz": 300
    },
    "id": "MxSFtA8FO7lg",
    "outputId": "79d65966-ff7e-4483-b851-04636004500a"
   },
   "outputs": [],
   "source": [
    "model = LyricsGeneratorModel(vocab_size, embedding_dim, hidden_dim)\n",
    "epoch_losses = train_model(model, data_loader, epochs=10)"
   ]
  },
  {
   "cell_type": "code",
   "execution_count": null,
   "metadata": {
    "colab": {
     "base_uri": "https://localhost:8080/"
    },
    "executionInfo": {
     "elapsed": 264,
     "status": "ok",
     "timestamp": 1701701386858,
     "user": {
      "displayName": "Abdul Basit Adeel",
      "userId": "05413524632778977820"
     },
     "user_tz": 300
    },
    "id": "aArXb1anReIN",
    "outputId": "c3299522-111d-43be-f7a4-28edc533d3c2"
   },
   "outputs": [],
   "source": [
    "# Saving model for future deployment\n",
    "#torch.save(model.state_dict(), 'rnn_lyrics_model_10e.pth')\n",
    "\n",
    "# loading saved model \n",
    "#model = model.load_state_dict(torch.load('rnn_lyrics_model_10e.pth'))"
   ]
  },
  {
   "cell_type": "code",
   "execution_count": null,
   "metadata": {
    "executionInfo": {
     "elapsed": 163,
     "status": "ok",
     "timestamp": 1701701401987,
     "user": {
      "displayName": "Abdul Basit Adeel",
      "userId": "05413524632778977820"
     },
     "user_tz": 300
    },
    "id": "v-te3j8uO7lh"
   },
   "outputs": [],
   "source": [
    "def generate_lyrics(model, seed_text, word2idx, idx2word, sequence_length=50, num_words=100):\n",
    "    model.eval()  # Set the model to evaluation mode\n",
    "    device = torch.device(\"cuda\" if torch.cuda.is_available() else \"cpu\")\n",
    "\n",
    "    # Initial sequence\n",
    "    generated = seed_text\n",
    "\n",
    "    for _ in range(num_words):\n",
    "        # Tokenize the current input text\n",
    "        input_tokens = [word2idx.get(word, 0) for word in word_tokenize(generated[-sequence_length:])]\n",
    "\n",
    "        # Pad sequence if shorter than required\n",
    "        if len(input_tokens) < sequence_length:\n",
    "            input_tokens = [0] * (sequence_length - len(input_tokens)) + input_tokens\n",
    "\n",
    "        # Convert to tensor and add batch dimension\n",
    "        input_tensor = torch.tensor([input_tokens], dtype=torch.long).to(device)\n",
    "\n",
    "        # Predict the next word\n",
    "        with torch.no_grad():\n",
    "            prediction = model(input_tensor)\n",
    "\n",
    "        # Get the last word from the prediction\n",
    "        predicted_idx = prediction[0, -1].argmax().item()\n",
    "        predicted_word = idx2word.get(predicted_idx, '<UNK>')\n",
    "\n",
    "        # Append to the generated text\n",
    "        generated += ' ' + predicted_word\n",
    "\n",
    "    return generated\n"
   ]
  },
  {
   "cell_type": "code",
   "execution_count": null,
   "metadata": {
    "colab": {
     "base_uri": "https://localhost:8080/",
     "height": 228
    },
    "executionInfo": {
     "elapsed": 242,
     "status": "error",
     "timestamp": 1701701404406,
     "user": {
      "displayName": "Abdul Basit Adeel",
      "userId": "05413524632778977820"
     },
     "user_tz": 300
    },
    "id": "lLTMqrm7O7li",
    "outputId": "ea67c558-a036-4020-cb81-6522ef3ed12c"
   },
   "outputs": [],
   "source": [
    "# Generating the output\n",
    "\n",
    "seed_text = \"I remember\"\n",
    "generated_lyrics = generate_lyrics(model, seed_text, word2idx, idx2word, sequence_length=50, num_words=100)\n",
    "print(generated_lyrics)"
   ]
  },
  {
   "cell_type": "code",
   "execution_count": null,
   "metadata": {},
   "outputs": [],
   "source": [
    "end_time = time.time()\n",
    "\n",
    "execution_time_seconds = end_time - start_time\n",
    "execution_time_minutes = execution_time_seconds / 60  # Convert seconds to minutes\n",
    "\n",
    "print(f\"Execution time RNN model: {execution_time_minutes:.2f} minutes\")"
   ]
  },
  {
   "cell_type": "code",
   "execution_count": null,
   "metadata": {},
   "outputs": [],
   "source": [
    "import matplotlib.pyplot as plt\n",
    "\n",
    "plt.figure(figsize=(10, 6))\n",
    "plt.plot(range(1, 11), epoch_losses, marker='o', label='Training Loss')\n",
    "plt.title(\"Loss per Epoch\")\n",
    "plt.xlabel(\"Epoch\")\n",
    "plt.ylabel(\"Average Loss\")\n",
    "plt.legend()\n",
    "plt.grid(True)\n",
    "plt.show()"
   ]
  }
 ],
 "metadata": {
  "accelerator": "GPU",
  "colab": {
   "gpuType": "T4",
   "provenance": []
  },
  "kernelspec": {
   "display_name": "Python 3 (ipykernel)",
   "language": "python",
   "name": "python3"
  },
  "language_info": {
   "codemirror_mode": {
    "name": "ipython",
    "version": 3
   },
   "file_extension": ".py",
   "mimetype": "text/x-python",
   "name": "python",
   "nbconvert_exporter": "python",
   "pygments_lexer": "ipython3",
   "version": "3.8.13"
  }
 },
 "nbformat": 4,
 "nbformat_minor": 4
}
